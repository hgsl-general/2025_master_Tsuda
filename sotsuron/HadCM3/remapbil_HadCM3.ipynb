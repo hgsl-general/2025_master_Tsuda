{
 "cells": [
  {
   "cell_type": "code",
   "execution_count": 2,
   "metadata": {},
   "outputs": [
    {
     "name": "stderr",
     "output_type": "stream",
     "text": [
      "cdo    remapbil: Bilinear weights from lonlat (96x73) to lonlat (360x180) grid\n",
      "cdo    remapbil: Processed 1 variable over 12012 timesteps [19.47s 68MB].\n",
      "cdo    remapbil: Processed 1 variable over 12012 timesteps [19.54s 68MB].\n",
      "cdo    remapbil: Bilinear weights from lonlat (96x73) to lonlat (360x180) grid\n"
     ]
    },
    {
     "name": "stdout",
     "output_type": "stream",
     "text": [
      "Processed: pr_Amon_HadCM3_past1000_r1i1p1_085001-185012.nc -> /work/a06/tsuda/m1/HadCM3/pr_Amon_HadCM3_past1000_r1i1p1_085001-185012_modified.nc\n"
     ]
    },
    {
     "name": "stderr",
     "output_type": "stream",
     "text": [
      "cdo    remapbil: Processed 1 variable over 300 timesteps [0.50s 65MB].\n",
      "cdo    remapbil: Bilinear weights from lonlat (96x73) to lonlat (360x180) grid\n"
     ]
    },
    {
     "name": "stdout",
     "output_type": "stream",
     "text": [
      "Processed: tas_Amon_HadCM3_historical_r1i1p1_190912-193411.nc -> /work/a06/tsuda/m1/HadCM3/tas_Amon_HadCM3_historical_r1i1p1_190912-193411_modified.nc\n"
     ]
    },
    {
     "name": "stderr",
     "output_type": "stream",
     "text": [
      "cdo    remapbil: Processed 1 variable over 300 timesteps [0.90s 65MB].\n",
      "cdo    remapbil: Bilinear weights from lonlat (96x73) to lonlat (360x180) grid\n"
     ]
    },
    {
     "name": "stdout",
     "output_type": "stream",
     "text": [
      "Processed: pr_Amon_HadCM3_historical_r1i1p1_190912-193411.nc -> /work/a06/tsuda/m1/HadCM3/pr_Amon_HadCM3_historical_r1i1p1_190912-193411_modified.nc\n"
     ]
    },
    {
     "name": "stderr",
     "output_type": "stream",
     "text": [
      "cdo    remapbil: Processed 1 variable over 12012 timesteps [17.25s 68MB].\n"
     ]
    },
    {
     "name": "stdout",
     "output_type": "stream",
     "text": [
      "Processed: tas_Amon_HadCM3_past1000_r1i1p1_085001-185012.nc -> /work/a06/tsuda/m1/HadCM3/tas_Amon_HadCM3_past1000_r1i1p1_085001-185012_modified.nc\n"
     ]
    },
    {
     "name": "stderr",
     "output_type": "stream",
     "text": [
      "cdo    remapbil: Bilinear weights from lonlat (96x73) to lonlat (360x180) grid\n",
      "cdo    remapbil: Processed 1 variable over 300 timesteps [1.43s 65MB].\n",
      "cdo    remapbil: Bilinear weights from lonlat (96x73) to lonlat (360x180) grid\n"
     ]
    },
    {
     "name": "stdout",
     "output_type": "stream",
     "text": [
      "Processed: tas_Amon_HadCM3_historical_r1i1p1_195912-198411.nc -> /work/a06/tsuda/m1/HadCM3/tas_Amon_HadCM3_historical_r1i1p1_195912-198411_modified.nc\n"
     ]
    },
    {
     "name": "stderr",
     "output_type": "stream",
     "text": [
      "cdo    remapbil: Processed 1 variable over 300 timesteps [0.41s 65MB].\n",
      "cdo    remapbil: Bilinear weights from lonlat (96x73) to lonlat (360x180) grid\n"
     ]
    },
    {
     "name": "stdout",
     "output_type": "stream",
     "text": [
      "Processed: pr_Amon_HadCM3_historical_r1i1p1_195912-198411.nc -> /work/a06/tsuda/m1/HadCM3/pr_Amon_HadCM3_historical_r1i1p1_195912-198411_modified.nc\n"
     ]
    },
    {
     "name": "stderr",
     "output_type": "stream",
     "text": [
      "cdo    remapbil: Processed 1 variable over 300 timesteps [0.79s 65MB].\n",
      "cdo    remapbil: Bilinear weights from lonlat (96x73) to lonlat (360x180) grid\n"
     ]
    },
    {
     "name": "stdout",
     "output_type": "stream",
     "text": [
      "Processed: pr_Amon_HadCM3_historical_r1i1p1_193412-195911.nc -> /work/a06/tsuda/m1/HadCM3/pr_Amon_HadCM3_historical_r1i1p1_193412-195911_modified.nc\n"
     ]
    },
    {
     "name": "stderr",
     "output_type": "stream",
     "text": [
      "cdo    remapbil: Processed 1 variable over 253 timesteps [0.36s 65MB].\n",
      "cdo    remapbil: Bilinear weights from lonlat (96x73) to lonlat (360x180) grid\n"
     ]
    },
    {
     "name": "stdout",
     "output_type": "stream",
     "text": [
      "Processed: tas_Amon_HadCM3_historical_r1i1p1_198412-200512.nc -> /work/a06/tsuda/m1/HadCM3/tas_Amon_HadCM3_historical_r1i1p1_198412-200512_modified.nc\n"
     ]
    },
    {
     "name": "stderr",
     "output_type": "stream",
     "text": [
      "cdo    remapbil: Processed 1 variable over 253 timesteps [0.43s 65MB].\n"
     ]
    },
    {
     "name": "stdout",
     "output_type": "stream",
     "text": [
      "Processed: pr_Amon_HadCM3_historical_r1i1p1_198412-200512.nc -> /work/a06/tsuda/m1/HadCM3/pr_Amon_HadCM3_historical_r1i1p1_198412-200512_modified.nc\n"
     ]
    },
    {
     "name": "stderr",
     "output_type": "stream",
     "text": [
      "cdo    remapbil: Bilinear weights from lonlat (360x180) to lonlat (360x180) grid\n",
      "cdo    remapbil: Processed 1 variable over 12012 timesteps [32.90s 70MB].\n"
     ]
    },
    {
     "name": "stdout",
     "output_type": "stream",
     "text": [
      "Processed: pr_Amon_HadCM3_past1000_r1i1p1_085001-185012_modified.nc -> /work/a06/tsuda/m1/HadCM3/pr_Amon_HadCM3_past1000_r1i1p1_085001-185012_modified_modified.nc\n"
     ]
    },
    {
     "name": "stderr",
     "output_type": "stream",
     "text": [
      "cdo    remapbil: Bilinear weights from lonlat (96x73) to lonlat (360x180) grid\n"
     ]
    },
    {
     "name": "stdout",
     "output_type": "stream",
     "text": [
      "Processed: tas_Amon_HadCM3_historical_r1i1p1_193412-195911.nc -> /work/a06/tsuda/m1/HadCM3/tas_Amon_HadCM3_historical_r1i1p1_193412-195911_modified.nc\n"
     ]
    },
    {
     "name": "stderr",
     "output_type": "stream",
     "text": [
      "cdo    remapbil: Processed 1 variable over 300 timesteps [0.61s 65MB].\n"
     ]
    }
   ],
   "source": [
    "import os\n",
    "import subprocess\n",
    "\n",
    "# 対象ディレクトリのパス\n",
    "target_dir = \"/work/a06/tsuda/m1/HadCM3\"\n",
    "# 出力グリッドの指定\n",
    "output_grid = \"r360x180\"\n",
    "\n",
    "# 対象ディレクトリ内のすべての.ncファイルをリストアップ\n",
    "nc_files = [f for f in os.listdir(target_dir) if f.endswith('.nc')]\n",
    "\n",
    "# 各ファイルに対してcdoコマンドを実行\n",
    "for file in nc_files:\n",
    "    input_path = os.path.join(target_dir, file)\n",
    "    output_path = os.path.join(target_dir, f\"{os.path.splitext(file)[0]}_modified.nc\")\n",
    "    \n",
    "    # cdo remapbilコマンドの実行\n",
    "    command = f\"cdo remapbil,{output_grid} {input_path} {output_path}\"\n",
    "    subprocess.run(command, shell=True)\n",
    "\n",
    "    print(f\"Processed: {file} -> {output_path}\")"
   ]
  }
 ],
 "metadata": {
  "kernelspec": {
   "display_name": "geocat",
   "language": "python",
   "name": "python3"
  },
  "language_info": {
   "codemirror_mode": {
    "name": "ipython",
    "version": 3
   },
   "file_extension": ".py",
   "mimetype": "text/x-python",
   "name": "python",
   "nbconvert_exporter": "python",
   "pygments_lexer": "ipython3",
   "version": "3.12.3"
  }
 },
 "nbformat": 4,
 "nbformat_minor": 2
}
