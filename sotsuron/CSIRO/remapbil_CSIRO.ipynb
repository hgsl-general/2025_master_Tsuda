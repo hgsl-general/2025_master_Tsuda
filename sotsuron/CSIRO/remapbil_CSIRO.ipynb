{
 "cells": [
  {
   "cell_type": "code",
   "execution_count": 1,
   "metadata": {},
   "outputs": [
    {
     "name": "stderr",
     "output_type": "stream",
     "text": [
      "cdo    remapbil: Bilinear weights from gaussian (64x56) to lonlat (360x180) grid\n",
      "cdo    remapbil: Processed 1 variable over 12000 timesteps [12.58s 68MB].\n"
     ]
    },
    {
     "name": "stdout",
     "output_type": "stream",
     "text": [
      "Processed: tas_Amon_CSIRO-Mk3L-1-2_past1000_r1i1p1_085101-185012.nc -> /work/a06/tsuda/m1/CSIRO/tas_Amon_CSIRO-Mk3L-1-2_past1000_r1i1p1_085101-185012_modified.nc\n"
     ]
    },
    {
     "name": "stderr",
     "output_type": "stream",
     "text": [
      "cdo    remapbil: Bilinear weights from lonlat (360x180) to lonlat (360x180) grid\n",
      "cdo    remapbil: Processed 1 variable over 12000 timesteps [30.71s 69MB].\n",
      "cdo    remapbil: Bilinear weights from gaussian (64x56) to lonlat (360x180) grid\n"
     ]
    },
    {
     "name": "stdout",
     "output_type": "stream",
     "text": [
      "Processed: tas_Amon_CSIRO-Mk3L-1-2_past1000_r1i1p1_085101-185012_modified.nc -> /work/a06/tsuda/m1/CSIRO/tas_Amon_CSIRO-Mk3L-1-2_past1000_r1i1p1_085101-185012_modified_modified.nc\n"
     ]
    },
    {
     "name": "stderr",
     "output_type": "stream",
     "text": [
      "cdo    remapbil: Processed 1 variable over 12000 timesteps [14.44s 69MB].\n",
      "cdo    remapbil: Bilinear weights from gaussian (64x56) to lonlat (360x180) grid\n"
     ]
    },
    {
     "name": "stdout",
     "output_type": "stream",
     "text": [
      "Processed: pr_Amon_CSIRO-Mk3L-1-2_past1000_r1i1p1_085101-185012.nc -> /work/a06/tsuda/m1/CSIRO/pr_Amon_CSIRO-Mk3L-1-2_past1000_r1i1p1_085101-185012_modified.nc\n"
     ]
    },
    {
     "name": "stderr",
     "output_type": "stream",
     "text": [
      "cdo    remapbil: Processed 1 variable over 1800 timesteps [1.59s 65MB].\n",
      "cdo    remapbil: Bilinear weights from gaussian (64x56) to lonlat (360x180) grid\n"
     ]
    },
    {
     "name": "stdout",
     "output_type": "stream",
     "text": [
      "Processed: tas_Amon_CSIRO-Mk3L-1-2_historical_r1i1p1_185101-200012.nc -> /work/a06/tsuda/m1/CSIRO/tas_Amon_CSIRO-Mk3L-1-2_historical_r1i1p1_185101-200012_modified.nc\n",
      "Processed: pr_Amon_CSIRO-Mk3L-1-2_historical_r1i1p1_185101-200012.nc -> /work/a06/tsuda/m1/CSIRO/pr_Amon_CSIRO-Mk3L-1-2_historical_r1i1p1_185101-200012_modified.nc\n"
     ]
    },
    {
     "name": "stderr",
     "output_type": "stream",
     "text": [
      "cdo    remapbil: Processed 1 variable over 1800 timesteps [2.60s 65MB].\n"
     ]
    }
   ],
   "source": [
    "import os\n",
    "import subprocess\n",
    "\n",
    "# 対象ディレクトリのパス\n",
    "target_dir = \"/work/a06/tsuda/m1/CSIRO\"\n",
    "# 出力グリッドの指定\n",
    "output_grid = \"r360x180\"\n",
    "\n",
    "# 対象ディレクトリ内のすべての.ncファイルをリストアップ\n",
    "nc_files = [f for f in os.listdir(target_dir) if f.endswith('.nc')]\n",
    "\n",
    "# 各ファイルに対してcdoコマンドを実行\n",
    "for file in nc_files:\n",
    "    input_path = os.path.join(target_dir, file)\n",
    "    output_path = os.path.join(target_dir, f\"{os.path.splitext(file)[0]}_modified.nc\")\n",
    "    \n",
    "    # cdo remapbilコマンドの実行\n",
    "    command = f\"cdo remapbil,{output_grid} {input_path} {output_path}\"\n",
    "    subprocess.run(command, shell=True)\n",
    "\n",
    "    print(f\"Processed: {file} -> {output_path}\")"
   ]
  }
 ],
 "metadata": {
  "kernelspec": {
   "display_name": "geocat",
   "language": "python",
   "name": "python3"
  },
  "language_info": {
   "codemirror_mode": {
    "name": "ipython",
    "version": 3
   },
   "file_extension": ".py",
   "mimetype": "text/x-python",
   "name": "python",
   "nbconvert_exporter": "python",
   "pygments_lexer": "ipython3",
   "version": "3.12.3"
  }
 },
 "nbformat": 4,
 "nbformat_minor": 2
}
