{
 "cells": [
  {
   "cell_type": "code",
   "execution_count": 3,
   "metadata": {},
   "outputs": [
    {
     "data": {
      "text/plain": [
       "'\\n# Calculate the total area of the grid\\ntotal_area = np.sum(grid_area)\\n\\n# Calculate the ratio of each grid cell\\'s area to the total area\\narea_ratio = grid_area / total_area\\n\\n\\nprint(\"Area ratios:\")\\nprint(area_ratio)\\n\\n\\n# Save the result to a npy file\\nnp.save(\"0.25grid_area_ratio.npy\", area_ratio)\\n'"
      ]
     },
     "execution_count": 3,
     "metadata": {},
     "output_type": "execute_result"
    }
   ],
   "source": [
    "import numpy as np\n",
    "def calculate_grid_area(latitude_start, latitude_end, longitude_start, longitude_end, grid_resolution):\n",
    "    \"\"\"\n",
    "    Calculate the area of each grid cell in a global grid with given latitude and longitude range and grid resolution.\n",
    "\n",
    "    Parameters:\n",
    "    - latitude_start: Starting latitude in degrees\n",
    "    - latitude_end: Ending latitude in degrees\n",
    "    - longitude_start: Starting longitude in degrees\n",
    "    - longitude_end: Ending longitude in degrees\n",
    "    - grid_resolution: Grid resolution in degrees\n",
    "\n",
    "    Returns:\n",
    "    - 2D array representing the area of each grid cell in square degrees\n",
    "    \"\"\"\n",
    "    # Calculate the number of grid cells in latitude and longitude\n",
    "    num_lat_cells = int((latitude_end - latitude_start) / grid_resolution)\n",
    "    num_lon_cells = int((longitude_end - longitude_start) / grid_resolution)\n",
    "\n",
    "    # Initialize a 2D array to store the area of each grid cell\n",
    "    grid_area = np.zeros((num_lat_cells, num_lon_cells))\n",
    "\n",
    "    for lat_index in range(num_lat_cells):\n",
    "        for lon_index in range(num_lon_cells):\n",
    "            lat = latitude_start + lat_index * grid_resolution\n",
    "            lon = longitude_start + lon_index * grid_resolution\n",
    "            lat_rad = lat * (np.pi / 180.0)\n",
    "            lat_next = lat + grid_resolution\n",
    "            lat_next_rad=lat_next*(np.pi / 180.0)\n",
    "            \n",
    "            lat_difference=(39941/2)/(180/grid_resolution) #単位はkm\n",
    "\n",
    "            # Calculate the area of the grid cell using spherical trapezoid formula\n",
    "            #area = (lon_rad_next - lon_rad) * lat_difference\n",
    "            lon_difference_mean=(grid_resolution/360)*((np.cos(lat_rad)+np.cos(lat_next_rad))/2)*40075 #単位はkm\n",
    "            #print(np.cos(lat_rad))\n",
    "            area=lat_difference*lon_difference_mean\n",
    "            grid_area[lat_index, lon_index] = area\n",
    "\n",
    "    return grid_area\n",
    "\n",
    "# Example usage:\n",
    "latitude_start = -90.0\n",
    "latitude_end = 90.0\n",
    "longitude_start = -180.0\n",
    "longitude_end = 180.0\n",
    "grid_resolution = 1/12\n",
    "\n",
    "grid_area = calculate_grid_area(latitude_start, latitude_end, longitude_start, longitude_end, grid_resolution)\n",
    "#print(\"Grid areas in square degrees:\")\n",
    "#print(grid_area)\n",
    "#print(np.max(grid_area))\n",
    "np.save('/work/a06/tsuda/m1//12grid_area_result.npy', grid_area)\n",
    "\n",
    "\n",
    "'''\n",
    "# Calculate the total area of the grid\n",
    "total_area = np.sum(grid_area)\n",
    "\n",
    "# Calculate the ratio of each grid cell's area to the total area\n",
    "area_ratio = grid_area / total_area\n",
    "\n",
    "\n",
    "print(\"Area ratios:\")\n",
    "print(area_ratio)\n",
    "\n",
    "\n",
    "# Save the result to a npy file\n",
    "np.save(\"0.25grid_area_ratio.npy\", area_ratio)\n",
    "'''"
   ]
  }
 ],
 "metadata": {
  "kernelspec": {
   "display_name": "geocat",
   "language": "python",
   "name": "python3"
  },
  "language_info": {
   "codemirror_mode": {
    "name": "ipython",
    "version": 3
   },
   "file_extension": ".py",
   "mimetype": "text/x-python",
   "name": "python",
   "nbconvert_exporter": "python",
   "pygments_lexer": "ipython3",
   "version": "3.12.3"
  }
 },
 "nbformat": 4,
 "nbformat_minor": 2
}
