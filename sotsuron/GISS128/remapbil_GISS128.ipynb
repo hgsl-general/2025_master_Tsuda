{
 "cells": [
  {
   "cell_type": "code",
   "execution_count": 1,
   "metadata": {},
   "outputs": [
    {
     "name": "stderr",
     "output_type": "stream",
     "text": [
      "cdo    remapbil: Bilinear weights from lonlat (144x90) to lonlat (360x180) grid\n",
      "cdo    remapbil: Processed 1 variable over 600 timesteps [0.81s 65MB].\n",
      "Warning (find_time_vars): Time variable >time< not found!\n",
      "\n",
      "cdo    remapbil (Abort): Unsupported generic coordinates (Variable: annual_mean_pr)!\n",
      "Warning (find_time_vars): Time variable >time< not found!\n",
      "\n",
      "cdo    remapbil (Abort): Unsupported generic coordinates (Variable: annual_mean_pr)!\n"
     ]
    },
    {
     "name": "stdout",
     "output_type": "stream",
     "text": [
      "Processed: pr_Amon_GISS-E2-R_past1000_r1i1p128_165101-170012.nc -> /work/a06/tsuda/m1/GISS128/pr_Amon_GISS-E2-R_past1000_r1i1p128_165101-170012_modified.nc\n",
      "Processed: annual_mean_pr_GISS128_1850.nc -> /work/a06/tsuda/m1/GISS128/annual_mean_pr_GISS128_1850_modified.nc\n",
      "Processed: annual_mean_pr_GISS128_900.nc -> /work/a06/tsuda/m1/GISS128/annual_mean_pr_GISS128_900_modified.nc\n"
     ]
    },
    {
     "name": "stderr",
     "output_type": "stream",
     "text": [
      "Warning (find_time_vars): Time variable >time< not found!\n",
      "\n",
      "cdo    remapbil (Abort): Unsupported generic coordinates (Variable: annual_mean_pr)!\n",
      "cdo    remapbil: Bilinear weights from lonlat (144x90) to lonlat (360x180) grid\n"
     ]
    },
    {
     "name": "stdout",
     "output_type": "stream",
     "text": [
      "Processed: annual_mean_pr_GISS128_1700.nc -> /work/a06/tsuda/m1/GISS128/annual_mean_pr_GISS128_1700_modified.nc\n"
     ]
    },
    {
     "name": "stderr",
     "output_type": "stream",
     "text": [
      "cdo    remapbil: Processed 1 variable over 600 timesteps [0.93s 65MB].\n",
      "Warning (find_time_vars): Time variable >time< not found!\n",
      "\n",
      "cdo    remapbil (Abort): Unsupported generic coordinates (Variable: annual_mean_tas)!\n",
      "cdo    remapbil: Bilinear weights from lonlat (144x90) to lonlat (360x180) grid\n"
     ]
    },
    {
     "name": "stdout",
     "output_type": "stream",
     "text": [
      "Processed: pr_Amon_GISS-E2-R_historical_r1i1p128_195101-200012.nc -> /work/a06/tsuda/m1/GISS128/pr_Amon_GISS-E2-R_historical_r1i1p128_195101-200012_modified.nc\n",
      "Processed: annual_mean_tas_GISS128_1950.nc -> /work/a06/tsuda/m1/GISS128/annual_mean_tas_GISS128_1950_modified.nc\n"
     ]
    },
    {
     "name": "stderr",
     "output_type": "stream",
     "text": [
      "cdo    remapbil: Processed 1 variable over 600 timesteps [1.26s 65MB].\n",
      "cdo    remapbil: Bilinear weights from lonlat (144x90) to lonlat (360x180) grid\n"
     ]
    },
    {
     "name": "stdout",
     "output_type": "stream",
     "text": [
      "Processed: tas_Amon_GISS-E2-R_past1000_r1i1p128_165101-170012.nc -> /work/a06/tsuda/m1/GISS128/tas_Amon_GISS-E2-R_past1000_r1i1p128_165101-170012_modified.nc\n"
     ]
    },
    {
     "name": "stderr",
     "output_type": "stream",
     "text": [
      "cdo    remapbil: Processed 1 variable over 600 timesteps [0.77s 65MB].\n",
      "cdo    remapbil: Bilinear weights from lonlat (144x90) to lonlat (360x180) grid\n"
     ]
    },
    {
     "name": "stdout",
     "output_type": "stream",
     "text": [
      "Processed: pr_Amon_GISS-E2-R_historical_r1i1p128_190101-195012.nc -> /work/a06/tsuda/m1/GISS128/pr_Amon_GISS-E2-R_historical_r1i1p128_190101-195012_modified.nc\n"
     ]
    },
    {
     "name": "stderr",
     "output_type": "stream",
     "text": [
      "cdo    remapbil: Processed 1 variable over 600 timesteps [0.87s 66MB].\n",
      "Warning (find_time_vars): Time variable >time< not found!\n",
      "\n",
      "cdo    remapbil (Abort): Unsupported generic coordinates (Variable: annual_mean_tas)!\n",
      "cdo    remapbil: Bilinear weights from lonlat (144x90) to lonlat (360x180) grid\n"
     ]
    },
    {
     "name": "stdout",
     "output_type": "stream",
     "text": [
      "Processed: tas_Amon_GISS-E2-R_past1000_r1i1p128_180101-185012.nc -> /work/a06/tsuda/m1/GISS128/tas_Amon_GISS-E2-R_past1000_r1i1p128_180101-185012_modified.nc\n",
      "Processed: annual_mean_tas_GISS128_900.nc -> /work/a06/tsuda/m1/GISS128/annual_mean_tas_GISS128_900_modified.nc\n"
     ]
    },
    {
     "name": "stderr",
     "output_type": "stream",
     "text": [
      "cdo    remapbil: Processed 1 variable over 600 timesteps [0.73s 65MB].\n",
      "cdo    remapbil: Bilinear weights from lonlat (144x90) to lonlat (360x180) grid\n"
     ]
    },
    {
     "name": "stdout",
     "output_type": "stream",
     "text": [
      "Processed: tas_Amon_GISS-E2-R_past1000_r1i1p128_090001-094912.nc -> /work/a06/tsuda/m1/GISS128/tas_Amon_GISS-E2-R_past1000_r1i1p128_090001-094912_modified.nc\n"
     ]
    },
    {
     "name": "stderr",
     "output_type": "stream",
     "text": [
      "cdo    remapbil: Processed 1 variable over 600 timesteps [0.61s 65MB].\n",
      "Warning (find_time_vars): Time variable >time< not found!\n",
      "\n",
      "cdo    remapbil (Abort): Unsupported generic coordinates (Variable: annual_mean_tas)!\n",
      "Warning (find_time_vars): Time variable >time< not found!\n",
      "\n",
      "cdo    remapbil (Abort): Unsupported generic coordinates (Variable: annual_mean_pr)!\n"
     ]
    },
    {
     "name": "stdout",
     "output_type": "stream",
     "text": [
      "Processed: pr_Amon_GISS-E2-R_past1000_r1i1p128_085001-089912.nc -> /work/a06/tsuda/m1/GISS128/pr_Amon_GISS-E2-R_past1000_r1i1p128_085001-089912_modified.nc\n",
      "Processed: annual_mean_tas_GISS128_1850.nc -> /work/a06/tsuda/m1/GISS128/annual_mean_tas_GISS128_1850_modified.nc\n",
      "Processed: annual_mean_pr_GISS128_1950.nc -> /work/a06/tsuda/m1/GISS128/annual_mean_pr_GISS128_1950_modified.nc\n"
     ]
    },
    {
     "name": "stderr",
     "output_type": "stream",
     "text": [
      "cdo    remapbil: Bilinear weights from lonlat (144x90) to lonlat (360x180) grid\n",
      "cdo    remapbil: Processed 1 variable over 600 timesteps [0.87s 65MB].\n",
      "cdo    remapbil: Bilinear weights from lonlat (144x90) to lonlat (360x180) grid\n"
     ]
    },
    {
     "name": "stdout",
     "output_type": "stream",
     "text": [
      "Processed: tas_Amon_GISS-E2-R_past1000_r1i1p128_085001-089912.nc -> /work/a06/tsuda/m1/GISS128/tas_Amon_GISS-E2-R_past1000_r1i1p128_085001-089912_modified.nc\n"
     ]
    },
    {
     "name": "stderr",
     "output_type": "stream",
     "text": [
      "cdo    remapbil: Processed 1 variable over 600 timesteps [0.52s 65MB].\n",
      "Warning (find_time_vars): Time variable >time< not found!\n",
      "\n",
      "cdo    remapbil (Abort): Unsupported generic coordinates (Variable: annual_mean_tas)!\n",
      "cdo    remapbil: Bilinear weights from lonlat (144x90) to lonlat (360x180) grid\n"
     ]
    },
    {
     "name": "stdout",
     "output_type": "stream",
     "text": [
      "Processed: pr_Amon_GISS-E2-R_past1000_r1i1p128_090001-094912.nc -> /work/a06/tsuda/m1/GISS128/pr_Amon_GISS-E2-R_past1000_r1i1p128_090001-094912_modified.nc\n",
      "Processed: annual_mean_tas_GISS128_1700.nc -> /work/a06/tsuda/m1/GISS128/annual_mean_tas_GISS128_1700_modified.nc\n"
     ]
    },
    {
     "name": "stderr",
     "output_type": "stream",
     "text": [
      "cdo    remapbil: Processed 1 variable over 600 timesteps [0.99s 65MB].\n",
      "Warning (find_time_vars): Time variable >time< not found!\n",
      "\n",
      "cdo    remapbil (Abort): Unsupported generic coordinates (Variable: annual_mean_pr)!\n"
     ]
    },
    {
     "name": "stdout",
     "output_type": "stream",
     "text": [
      "Processed: pr_Amon_GISS-E2-R_past1000_r1i1p128_180101-185012.nc -> /work/a06/tsuda/m1/GISS128/pr_Amon_GISS-E2-R_past1000_r1i1p128_180101-185012_modified.nc\n",
      "Processed: annual_mean_pr_GISS128_1400.nc -> /work/a06/tsuda/m1/GISS128/annual_mean_pr_GISS128_1400_modified.nc\n"
     ]
    },
    {
     "name": "stderr",
     "output_type": "stream",
     "text": [
      "Warning (find_time_vars): Time variable >time< not found!\n",
      "\n",
      "cdo    remapbil (Abort): Unsupported generic coordinates (Variable: annual_mean_tas)!\n",
      "cdo    remapbil: Bilinear weights from lonlat (144x90) to lonlat (360x180) grid\n"
     ]
    },
    {
     "name": "stdout",
     "output_type": "stream",
     "text": [
      "Processed: annual_mean_tas_GISS128_2000.nc -> /work/a06/tsuda/m1/GISS128/annual_mean_tas_GISS128_2000_modified.nc\n"
     ]
    },
    {
     "name": "stderr",
     "output_type": "stream",
     "text": [
      "cdo    remapbil: Processed 1 variable over 600 timesteps [1.58s 65MB].\n",
      "cdo    remapbil: Bilinear weights from lonlat (144x90) to lonlat (360x180) grid\n"
     ]
    },
    {
     "name": "stdout",
     "output_type": "stream",
     "text": [
      "Processed: tas_Amon_GISS-E2-R_historical_r1i1p128_190101-195012.nc -> /work/a06/tsuda/m1/GISS128/tas_Amon_GISS-E2-R_historical_r1i1p128_190101-195012_modified.nc\n"
     ]
    },
    {
     "name": "stderr",
     "output_type": "stream",
     "text": [
      "cdo    remapbil: Processed 1 variable over 600 timesteps [0.70s 66MB].\n",
      "cdo    remapbil: Bilinear weights from lonlat (144x90) to lonlat (360x180) grid\n"
     ]
    },
    {
     "name": "stdout",
     "output_type": "stream",
     "text": [
      "Processed: tas_Amon_GISS-E2-R_past1000_r1i1p128_135101-140012.nc -> /work/a06/tsuda/m1/GISS128/tas_Amon_GISS-E2-R_past1000_r1i1p128_135101-140012_modified.nc\n"
     ]
    },
    {
     "name": "stderr",
     "output_type": "stream",
     "text": [
      "cdo    remapbil: Processed 1 variable over 600 timesteps [0.94s 65MB].\n",
      "Warning (find_time_vars): Time variable >time< not found!\n",
      "\n",
      "cdo    remapbil (Abort): Unsupported generic coordinates (Variable: annual_mean_tas)!\n"
     ]
    },
    {
     "name": "stdout",
     "output_type": "stream",
     "text": [
      "Processed: tas_Amon_GISS-E2-R_historical_r1i1p128_195101-200012.nc -> /work/a06/tsuda/m1/GISS128/tas_Amon_GISS-E2-R_historical_r1i1p128_195101-200012_modified.nc\n",
      "Processed: annual_mean_tas_GISS128_1400.nc -> /work/a06/tsuda/m1/GISS128/annual_mean_tas_GISS128_1400_modified.nc\n"
     ]
    },
    {
     "name": "stderr",
     "output_type": "stream",
     "text": [
      "cdo    remapbil: Bilinear weights from lonlat (144x90) to lonlat (360x180) grid\n"
     ]
    },
    {
     "name": "stdout",
     "output_type": "stream",
     "text": [
      "Processed: pr_Amon_GISS-E2-R_past1000_r1i1p128_135101-140012.nc -> /work/a06/tsuda/m1/GISS128/pr_Amon_GISS-E2-R_past1000_r1i1p128_135101-140012_modified.nc\n",
      "Processed: annual_mean_pr_GISS128_2000.nc -> /work/a06/tsuda/m1/GISS128/annual_mean_pr_GISS128_2000_modified.nc\n"
     ]
    },
    {
     "name": "stderr",
     "output_type": "stream",
     "text": [
      "cdo    remapbil: Processed 1 variable over 600 timesteps [0.92s 66MB].\n",
      "Warning (find_time_vars): Time variable >time< not found!\n",
      "\n",
      "cdo    remapbil (Abort): Unsupported generic coordinates (Variable: annual_mean_pr)!\n"
     ]
    }
   ],
   "source": [
    "import os\n",
    "import subprocess\n",
    "\n",
    "# 対象ディレクトリのパス\n",
    "target_dir = \"/work/a06/tsuda/m1/GISS128\"\n",
    "# 出力グリッドの指定\n",
    "output_grid = \"r360x180\"\n",
    "\n",
    "# 対象ディレクトリ内のすべての.ncファイルをリストアップ\n",
    "nc_files = [f for f in os.listdir(target_dir) if f.endswith('.nc')]\n",
    "\n",
    "# 各ファイルに対してcdoコマンドを実行\n",
    "for file in nc_files:\n",
    "    input_path = os.path.join(target_dir, file)\n",
    "    output_path = os.path.join(target_dir, f\"{os.path.splitext(file)[0]}_modified.nc\")\n",
    "    \n",
    "    # cdo remapbilコマンドの実行\n",
    "    command = f\"cdo remapbil,{output_grid} {input_path} {output_path}\"\n",
    "    subprocess.run(command, shell=True)\n",
    "\n",
    "    print(f\"Processed: {file} -> {output_path}\")"
   ]
  }
 ],
 "metadata": {
  "kernelspec": {
   "display_name": "geocat",
   "language": "python",
   "name": "python3"
  },
  "language_info": {
   "codemirror_mode": {
    "name": "ipython",
    "version": 3
   },
   "file_extension": ".py",
   "mimetype": "text/x-python",
   "name": "python",
   "nbconvert_exporter": "python",
   "pygments_lexer": "ipython3",
   "version": "3.12.3"
  }
 },
 "nbformat": 4,
 "nbformat_minor": 2
}
