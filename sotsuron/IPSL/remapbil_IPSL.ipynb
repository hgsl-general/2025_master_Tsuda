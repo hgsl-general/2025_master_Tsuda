{
 "cells": [
  {
   "cell_type": "code",
   "execution_count": 1,
   "metadata": {},
   "outputs": [
    {
     "name": "stderr",
     "output_type": "stream",
     "text": [
      "cdo    remapbil: Bilinear weights from lonlat (96x96) to lonlat (360x180) grid\n",
      "cdo    remapbil: Processed 1 variable over 2400 timesteps [2.90s 65MB].\n",
      "cdo    remapbil: Bilinear weights from lonlat (96x96) to lonlat (360x180) grid\n"
     ]
    },
    {
     "name": "stdout",
     "output_type": "stream",
     "text": [
      "Processed: tas_Amon_IPSL-CM5A-LR_past1000_r1i1p1_145001-164912.nc -> /work/a06/tsuda/m1/IPSL/tas_Amon_IPSL-CM5A-LR_past1000_r1i1p1_145001-164912_modified.nc\n"
     ]
    },
    {
     "name": "stderr",
     "output_type": "stream",
     "text": [
      "cdo    remapbil: Processed 1 variable over 2400 timesteps [4.36s 65MB].\n",
      "cdo    remapbil: Bilinear weights from lonlat (96x96) to lonlat (360x180) grid\n"
     ]
    },
    {
     "name": "stdout",
     "output_type": "stream",
     "text": [
      "Processed: pr_Amon_IPSL-CM5A-LR_past1000_r1i1p1_165001-184912.nc -> /work/a06/tsuda/m1/IPSL/pr_Amon_IPSL-CM5A-LR_past1000_r1i1p1_165001-184912_modified.nc\n"
     ]
    },
    {
     "name": "stderr",
     "output_type": "stream",
     "text": [
      "cdo    remapbil: Processed 1 variable over 2400 timesteps [3.88s 66MB].\n",
      "cdo    remapbil: Bilinear weights from lonlat (96x96) to lonlat (360x180) grid\n",
      "cdo    remapbil: Processed 1 variable over 12 timesteps [0.08s 65MB].\n"
     ]
    },
    {
     "name": "stdout",
     "output_type": "stream",
     "text": [
      "Processed: pr_Amon_IPSL-CM5A-LR_past1000_r1i1p1_125001-144912.nc -> /work/a06/tsuda/m1/IPSL/pr_Amon_IPSL-CM5A-LR_past1000_r1i1p1_125001-144912_modified.nc\n",
      "Processed: tas_Amon_IPSL-CM5A-LR_past1000_r1i1p1_185001-185012.nc -> /work/a06/tsuda/m1/IPSL/tas_Amon_IPSL-CM5A-LR_past1000_r1i1p1_185001-185012_modified.nc\n"
     ]
    },
    {
     "name": "stderr",
     "output_type": "stream",
     "text": [
      "cdo    remapbil: Bilinear weights from lonlat (96x96) to lonlat (360x180) grid\n",
      "cdo    remapbil: Processed 1 variable over 2400 timesteps [2.97s 65MB].\n",
      "cdo    remapbil: Bilinear weights from lonlat (96x96) to lonlat (360x180) grid\n"
     ]
    },
    {
     "name": "stdout",
     "output_type": "stream",
     "text": [
      "Processed: tas_Amon_IPSL-CM5A-LR_past1000_r1i1p1_085001-104912.nc -> /work/a06/tsuda/m1/IPSL/tas_Amon_IPSL-CM5A-LR_past1000_r1i1p1_085001-104912_modified.nc\n"
     ]
    },
    {
     "name": "stderr",
     "output_type": "stream",
     "text": [
      "cdo    remapbil: Processed 1 variable over 2400 timesteps [2.71s 65MB].\n",
      "cdo    remapbil: Bilinear weights from lonlat (96x96) to lonlat (360x180) grid\n"
     ]
    },
    {
     "name": "stdout",
     "output_type": "stream",
     "text": [
      "Processed: pr_Amon_IPSL-CM5A-LR_past1000_r1i1p1_105001-124912.nc -> /work/a06/tsuda/m1/IPSL/pr_Amon_IPSL-CM5A-LR_past1000_r1i1p1_105001-124912_modified.nc\n"
     ]
    },
    {
     "name": "stderr",
     "output_type": "stream",
     "text": [
      "cdo    remapbil: Processed 1 variable over 1872 timesteps [2.72s 65MB].\n",
      "cdo    remapbil: Bilinear weights from lonlat (360x180) to lonlat (360x180) grid\n"
     ]
    },
    {
     "name": "stdout",
     "output_type": "stream",
     "text": [
      "Processed: pr_Amon_IPSL-CM5A-LR_historical_r1i1p1_185001-200512.nc -> /work/a06/tsuda/m1/IPSL/pr_Amon_IPSL-CM5A-LR_historical_r1i1p1_185001-200512_modified.nc\n"
     ]
    },
    {
     "name": "stderr",
     "output_type": "stream",
     "text": [
      "cdo    remapbil: Processed 1 variable over 2400 timesteps [5.65s 67MB].\n",
      "cdo    remapbil: Bilinear weights from lonlat (96x96) to lonlat (360x180) grid\n"
     ]
    },
    {
     "name": "stdout",
     "output_type": "stream",
     "text": [
      "Processed: pr_Amon_IPSL-CM5A-LR_past1000_r1i1p1_085001-104912_modified.nc -> /work/a06/tsuda/m1/IPSL/pr_Amon_IPSL-CM5A-LR_past1000_r1i1p1_085001-104912_modified_modified.nc\n"
     ]
    },
    {
     "name": "stderr",
     "output_type": "stream",
     "text": [
      "cdo    remapbil: Processed 1 variable over 2400 timesteps [4.24s 65MB].\n",
      "cdo    remapbil: Bilinear weights from lonlat (96x96) to lonlat (360x180) grid\n"
     ]
    },
    {
     "name": "stdout",
     "output_type": "stream",
     "text": [
      "Processed: tas_Amon_IPSL-CM5A-LR_past1000_r1i1p1_165001-184912.nc -> /work/a06/tsuda/m1/IPSL/tas_Amon_IPSL-CM5A-LR_past1000_r1i1p1_165001-184912_modified.nc\n"
     ]
    },
    {
     "name": "stderr",
     "output_type": "stream",
     "text": [
      "cdo    remapbil: Processed 1 variable over 2400 timesteps [3.14s 65MB].\n",
      "cdo    remapbil: Bilinear weights from lonlat (96x96) to lonlat (360x180) grid\n"
     ]
    },
    {
     "name": "stdout",
     "output_type": "stream",
     "text": [
      "Processed: pr_Amon_IPSL-CM5A-LR_past1000_r1i1p1_145001-164912.nc -> /work/a06/tsuda/m1/IPSL/pr_Amon_IPSL-CM5A-LR_past1000_r1i1p1_145001-164912_modified.nc\n"
     ]
    },
    {
     "name": "stderr",
     "output_type": "stream",
     "text": [
      "cdo    remapbil: Processed 1 variable over 2400 timesteps [2.23s 65MB].\n"
     ]
    },
    {
     "name": "stdout",
     "output_type": "stream",
     "text": [
      "Processed: pr_Amon_IPSL-CM5A-LR_past1000_r1i1p1_085001-104912.nc -> /work/a06/tsuda/m1/IPSL/pr_Amon_IPSL-CM5A-LR_past1000_r1i1p1_085001-104912_modified.nc\n"
     ]
    },
    {
     "name": "stderr",
     "output_type": "stream",
     "text": [
      "cdo    remapbil: Bilinear weights from lonlat (96x96) to lonlat (360x180) grid\n",
      "cdo    remapbil: Processed 1 variable over 2400 timesteps [3.52s 65MB].\n",
      "cdo    remapbil: Bilinear weights from lonlat (96x96) to lonlat (360x180) grid\n"
     ]
    },
    {
     "name": "stdout",
     "output_type": "stream",
     "text": [
      "Processed: tas_Amon_IPSL-CM5A-LR_past1000_r1i1p1_105001-124912.nc -> /work/a06/tsuda/m1/IPSL/tas_Amon_IPSL-CM5A-LR_past1000_r1i1p1_105001-124912_modified.nc\n"
     ]
    },
    {
     "name": "stderr",
     "output_type": "stream",
     "text": [
      "cdo    remapbil: Processed 1 variable over 12 timesteps [0.15s 65MB].\n",
      "cdo    remapbil: Bilinear weights from lonlat (96x96) to lonlat (360x180) grid\n"
     ]
    },
    {
     "name": "stdout",
     "output_type": "stream",
     "text": [
      "Processed: pr_Amon_IPSL-CM5A-LR_past1000_r1i1p1_185001-185012.nc -> /work/a06/tsuda/m1/IPSL/pr_Amon_IPSL-CM5A-LR_past1000_r1i1p1_185001-185012_modified.nc\n"
     ]
    },
    {
     "name": "stderr",
     "output_type": "stream",
     "text": [
      "cdo    remapbil: Processed 1 variable over 2400 timesteps [2.69s 65MB].\n",
      "cdo    remapbil: Bilinear weights from lonlat (96x96) to lonlat (360x180) grid\n"
     ]
    },
    {
     "name": "stdout",
     "output_type": "stream",
     "text": [
      "Processed: tas_Amon_IPSL-CM5A-LR_past1000_r1i1p1_125001-144912.nc -> /work/a06/tsuda/m1/IPSL/tas_Amon_IPSL-CM5A-LR_past1000_r1i1p1_125001-144912_modified.nc\n",
      "Processed: tas_Amon_IPSL-CM5A-LR_historical_r1i1p1_185001-200512.nc -> /work/a06/tsuda/m1/IPSL/tas_Amon_IPSL-CM5A-LR_historical_r1i1p1_185001-200512_modified.nc\n"
     ]
    },
    {
     "name": "stderr",
     "output_type": "stream",
     "text": [
      "cdo    remapbil: Processed 1 variable over 1872 timesteps [2.68s 65MB].\n"
     ]
    }
   ],
   "source": [
    "import os\n",
    "import subprocess\n",
    "\n",
    "# 対象ディレクトリのパス\n",
    "target_dir = \"/work/a06/tsuda/m1/IPSL\"\n",
    "# 出力グリッドの指定\n",
    "output_grid = \"r360x180\"\n",
    "\n",
    "# 対象ディレクトリ内のすべての.ncファイルをリストアップ\n",
    "nc_files = [f for f in os.listdir(target_dir) if f.endswith('.nc')]\n",
    "\n",
    "# 各ファイルに対してcdoコマンドを実行\n",
    "for file in nc_files:\n",
    "    input_path = os.path.join(target_dir, file)\n",
    "    output_path = os.path.join(target_dir, f\"{os.path.splitext(file)[0]}_modified.nc\")\n",
    "    \n",
    "    # cdo remapbilコマンドの実行\n",
    "    command = f\"cdo remapbil,{output_grid} {input_path} {output_path}\"\n",
    "    subprocess.run(command, shell=True)\n",
    "\n",
    "    print(f\"Processed: {file} -> {output_path}\")"
   ]
  }
 ],
 "metadata": {
  "kernelspec": {
   "display_name": "geocat",
   "language": "python",
   "name": "python3"
  },
  "language_info": {
   "codemirror_mode": {
    "name": "ipython",
    "version": 3
   },
   "file_extension": ".py",
   "mimetype": "text/x-python",
   "name": "python",
   "nbconvert_exporter": "python",
   "pygments_lexer": "ipython3",
   "version": "3.12.3"
  }
 },
 "nbformat": 4,
 "nbformat_minor": 2
}
