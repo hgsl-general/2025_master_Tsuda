{
 "cells": [
  {
   "cell_type": "code",
   "execution_count": 1,
   "id": "73d81d1e",
   "metadata": {},
   "outputs": [
    {
     "name": "stdout",
     "output_type": "stream",
     "text": [
      "   Year  Draught_Livestock  Population  Firewood   Wind  Water   Coal    Oil  \\\n",
      "0  1560              0.333       0.220     0.338  0.003  0.008  0.128  0.128   \n",
      "1  1561              0.331       0.222     0.336  0.003  0.008  0.100  0.100   \n",
      "2  1562              0.329       0.224     0.334  0.003  0.008  0.101  0.101   \n",
      "3  1563              0.328       0.225     0.333  0.003  0.008  0.103  0.103   \n",
      "4  1564              0.327       0.226     0.332  0.003  0.008  0.104  0.104   \n",
      "\n",
      "   Gas  Primary_Electricity  Modern  \n",
      "0    0                    0   0.128  \n",
      "1    0                    0   0.100  \n",
      "2    0                    0   0.101  \n",
      "3    0                    0   0.103  \n",
      "4    0                    0   0.104  \n",
      "<class 'pandas.core.frame.DataFrame'>\n",
      "RangeIndex: 392 entries, 0 to 391\n",
      "Data columns (total 11 columns):\n",
      " #   Column               Non-Null Count  Dtype  \n",
      "---  ------               --------------  -----  \n",
      " 0   Year                 392 non-null    int64  \n",
      " 1   Draught_Livestock    392 non-null    float64\n",
      " 2   Population           392 non-null    float64\n",
      " 3   Firewood             392 non-null    float64\n",
      " 4   Wind                 392 non-null    float64\n",
      " 5   Water                392 non-null    float64\n",
      " 6   Coal                 392 non-null    float64\n",
      " 7   Oil                  392 non-null    float64\n",
      " 8   Gas                  392 non-null    int64  \n",
      " 9   Primary_Electricity  392 non-null    int64  \n",
      " 10  Modern               392 non-null    float64\n",
      "dtypes: float64(8), int64(3)\n",
      "memory usage: 33.8 KB\n",
      "None\n"
     ]
    }
   ],
   "source": [
    "#csvファイルを読み込む\n",
    "import pandas as pd\n",
    "\n",
    "# ファイルパス（適宜変更してください）\n",
    "file_path = \"Modern_ratio.csv\"\n",
    "\n",
    "# 読み込み\n",
    "df = pd.read_csv(file_path)\n",
    "\n",
    "# 先頭5行を確認\n",
    "print(df.head())\n",
    "\n",
    "# データの概要\n",
    "print(df.info())\n",
    "\n"
   ]
  }
 ],
 "metadata": {
  "kernelspec": {
   "display_name": "nb312",
   "language": "python",
   "name": "python3"
  },
  "language_info": {
   "codemirror_mode": {
    "name": "ipython",
    "version": 3
   },
   "file_extension": ".py",
   "mimetype": "text/x-python",
   "name": "python",
   "nbconvert_exporter": "python",
   "pygments_lexer": "ipython3",
   "version": "3.12.11"
  }
 },
 "nbformat": 4,
 "nbformat_minor": 5
}
