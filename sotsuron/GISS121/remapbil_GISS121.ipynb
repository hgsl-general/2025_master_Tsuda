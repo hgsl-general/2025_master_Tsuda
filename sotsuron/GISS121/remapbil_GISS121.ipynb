{
 "cells": [
  {
   "cell_type": "code",
   "execution_count": 1,
   "metadata": {},
   "outputs": [
    {
     "name": "stderr",
     "output_type": "stream",
     "text": [
      "cdo    remapbil: Bilinear weights from lonlat (144x90) to lonlat (360x180) grid\n",
      "cdo    remapbil: Processed 1 variable over 300 timesteps [0.29s 65MB].\n",
      "cdo    remapbil: Bilinear weights from lonlat (144x90) to lonlat (360x180) grid\n"
     ]
    },
    {
     "name": "stdout",
     "output_type": "stream",
     "text": [
      "Processed: tas_Amon_GISS-E2-R_historical_r1i1p121_195101-197512.nc -> /work/a06/tsuda/m1/GISS121/tas_Amon_GISS-E2-R_historical_r1i1p121_195101-197512_modified.nc\n"
     ]
    },
    {
     "name": "stderr",
     "output_type": "stream",
     "text": [
      "cdo    remapbil: Processed 1 variable over 600 timesteps [0.80s 65MB].\n",
      "cdo    remapbil: Bilinear weights from lonlat (144x90) to lonlat (360x180) grid\n"
     ]
    },
    {
     "name": "stdout",
     "output_type": "stream",
     "text": [
      "Processed: pr_Amon_GISS-E2-R_past1000_r1i1p121_135101-140012.nc -> /work/a06/tsuda/m1/GISS121/pr_Amon_GISS-E2-R_past1000_r1i1p121_135101-140012_modified.nc\n"
     ]
    },
    {
     "name": "stderr",
     "output_type": "stream",
     "text": [
      "cdo    remapbil: Processed 1 variable over 600 timesteps [0.55s 66MB].\n",
      "cdo    remapbil: Bilinear weights from lonlat (144x90) to lonlat (360x180) grid\n"
     ]
    },
    {
     "name": "stdout",
     "output_type": "stream",
     "text": [
      "Processed: tas_Amon_GISS-E2-R_past1000_r1i1p121_135101-140012.nc -> /work/a06/tsuda/m1/GISS121/tas_Amon_GISS-E2-R_past1000_r1i1p121_135101-140012_modified.nc\n"
     ]
    },
    {
     "name": "stderr",
     "output_type": "stream",
     "text": [
      "cdo    remapbil: Processed 1 variable over 300 timesteps [0.62s 65MB].\n",
      "cdo    remapbil: Bilinear weights from lonlat (144x90) to lonlat (360x180) grid\n"
     ]
    },
    {
     "name": "stdout",
     "output_type": "stream",
     "text": [
      "Processed: pr_Amon_GISS-E2-R_historical_r1i1p121_195101-197512.nc -> /work/a06/tsuda/m1/GISS121/pr_Amon_GISS-E2-R_historical_r1i1p121_195101-197512_modified.nc\n"
     ]
    },
    {
     "name": "stderr",
     "output_type": "stream",
     "text": [
      "cdo    remapbil: Processed 1 variable over 300 timesteps [0.28s 66MB].\n",
      "cdo    remapbil: Bilinear weights from lonlat (144x90) to lonlat (360x180) grid\n"
     ]
    },
    {
     "name": "stdout",
     "output_type": "stream",
     "text": [
      "Processed: tas_Amon_GISS-E2-R_historical_r1i1p121_190101-192512.nc -> /work/a06/tsuda/m1/GISS121/tas_Amon_GISS-E2-R_historical_r1i1p121_190101-192512_modified.nc\n"
     ]
    },
    {
     "name": "stderr",
     "output_type": "stream",
     "text": [
      "cdo    remapbil: Processed 1 variable over 300 timesteps [0.41s 65MB].\n",
      "cdo    remapbil: Bilinear weights from lonlat (144x90) to lonlat (360x180) grid\n"
     ]
    },
    {
     "name": "stdout",
     "output_type": "stream",
     "text": [
      "Processed: pr_Amon_GISS-E2-R_historical_r1i1p121_197601-200012.nc -> /work/a06/tsuda/m1/GISS121/pr_Amon_GISS-E2-R_historical_r1i1p121_197601-200012_modified.nc\n"
     ]
    },
    {
     "name": "stderr",
     "output_type": "stream",
     "text": [
      "cdo    remapbil: Processed 1 variable over 300 timesteps [0.29s 65MB].\n",
      "cdo    remapbil: Bilinear weights from lonlat (144x90) to lonlat (360x180) grid\n"
     ]
    },
    {
     "name": "stdout",
     "output_type": "stream",
     "text": [
      "Processed: tas_Amon_GISS-E2-R_historical_r1i1p121_192601-195012.nc -> /work/a06/tsuda/m1/GISS121/tas_Amon_GISS-E2-R_historical_r1i1p121_192601-195012_modified.nc\n"
     ]
    },
    {
     "name": "stderr",
     "output_type": "stream",
     "text": [
      "cdo    remapbil: Processed 1 variable over 600 timesteps [0.80s 66MB].\n",
      "cdo    remapbil: Bilinear weights from lonlat (144x90) to lonlat (360x180) grid\n"
     ]
    },
    {
     "name": "stdout",
     "output_type": "stream",
     "text": [
      "Processed: pr_Amon_GISS-E2-R_past1000_r1i1p121_165101-170012.nc -> /work/a06/tsuda/m1/GISS121/pr_Amon_GISS-E2-R_past1000_r1i1p121_165101-170012_modified.nc\n"
     ]
    },
    {
     "name": "stderr",
     "output_type": "stream",
     "text": [
      "cdo    remapbil: Processed 1 variable over 600 timesteps [0.54s 65MB].\n",
      "cdo    remapbil: Bilinear weights from lonlat (144x90) to lonlat (360x180) grid\n"
     ]
    },
    {
     "name": "stdout",
     "output_type": "stream",
     "text": [
      "Processed: tas_Amon_GISS-E2-R_past1000_r1i1p121_165101-170012.nc -> /work/a06/tsuda/m1/GISS121/tas_Amon_GISS-E2-R_past1000_r1i1p121_165101-170012_modified.nc\n"
     ]
    },
    {
     "name": "stderr",
     "output_type": "stream",
     "text": [
      "cdo    remapbil: Processed 1 variable over 600 timesteps [1.77s 66MB].\n",
      "cdo    remapbil: Bilinear weights from lonlat (144x90) to lonlat (360x180) grid\n"
     ]
    },
    {
     "name": "stdout",
     "output_type": "stream",
     "text": [
      "Processed: pr_Amon_GISS-E2-R_past1000_r1i1p121_180101-185012.nc -> /work/a06/tsuda/m1/GISS121/pr_Amon_GISS-E2-R_past1000_r1i1p121_180101-185012_modified.nc\n"
     ]
    },
    {
     "name": "stderr",
     "output_type": "stream",
     "text": [
      "cdo    remapbil: Processed 1 variable over 600 timesteps [0.52s 65MB].\n",
      "cdo    remapbil: Bilinear weights from lonlat (144x90) to lonlat (360x180) grid\n"
     ]
    },
    {
     "name": "stdout",
     "output_type": "stream",
     "text": [
      "Processed: tas_Amon_GISS-E2-R_past1000_r1i1p121_180101-185012.nc -> /work/a06/tsuda/m1/GISS121/tas_Amon_GISS-E2-R_past1000_r1i1p121_180101-185012_modified.nc\n"
     ]
    },
    {
     "name": "stderr",
     "output_type": "stream",
     "text": [
      "cdo    remapbil: Processed 1 variable over 600 timesteps [0.55s 65MB].\n",
      "cdo    remapbil: Bilinear weights from lonlat (144x90) to lonlat (360x180) grid\n"
     ]
    },
    {
     "name": "stdout",
     "output_type": "stream",
     "text": [
      "Processed: tas_Amon_GISS-E2-R_past1000_r1i1p121_090001-094912.nc -> /work/a06/tsuda/m1/GISS121/tas_Amon_GISS-E2-R_past1000_r1i1p121_090001-094912_modified.nc\n"
     ]
    },
    {
     "name": "stderr",
     "output_type": "stream",
     "text": [
      "cdo    remapbil: Processed 1 variable over 600 timesteps [1.23s 65MB].\n",
      "cdo    remapbil: Bilinear weights from lonlat (144x90) to lonlat (360x180) grid\n"
     ]
    },
    {
     "name": "stdout",
     "output_type": "stream",
     "text": [
      "Processed: pr_Amon_GISS-E2-R_past1000_r1i1p121_090001-094912.nc -> /work/a06/tsuda/m1/GISS121/pr_Amon_GISS-E2-R_past1000_r1i1p121_090001-094912_modified.nc\n"
     ]
    },
    {
     "name": "stderr",
     "output_type": "stream",
     "text": [
      "cdo    remapbil: Processed 1 variable over 300 timesteps [0.29s 66MB].\n",
      "cdo    remapbil: Bilinear weights from lonlat (144x90) to lonlat (360x180) grid\n"
     ]
    },
    {
     "name": "stdout",
     "output_type": "stream",
     "text": [
      "Processed: tas_Amon_GISS-E2-R_historical_r1i1p121_197601-200012.nc -> /work/a06/tsuda/m1/GISS121/tas_Amon_GISS-E2-R_historical_r1i1p121_197601-200012_modified.nc\n"
     ]
    },
    {
     "name": "stderr",
     "output_type": "stream",
     "text": [
      "cdo    remapbil: Processed 1 variable over 300 timesteps [0.43s 65MB].\n"
     ]
    },
    {
     "name": "stdout",
     "output_type": "stream",
     "text": [
      "Processed: pr_Amon_GISS-E2-R_historical_r1i1p121_192601-195012.nc -> /work/a06/tsuda/m1/GISS121/pr_Amon_GISS-E2-R_historical_r1i1p121_192601-195012_modified.nc\n"
     ]
    },
    {
     "name": "stderr",
     "output_type": "stream",
     "text": [
      "cdo    remapbil: Bilinear weights from lonlat (144x90) to lonlat (360x180) grid\n",
      "cdo    remapbil: Processed 1 variable over 600 timesteps [0.89s 65MB].\n",
      "cdo    remapbil: Bilinear weights from lonlat (144x90) to lonlat (360x180) grid\n"
     ]
    },
    {
     "name": "stdout",
     "output_type": "stream",
     "text": [
      "Processed: pr_Amon_GISS-E2-R_past1000_r1i1p121_085001-089912.nc -> /work/a06/tsuda/m1/GISS121/pr_Amon_GISS-E2-R_past1000_r1i1p121_085001-089912_modified.nc\n"
     ]
    },
    {
     "name": "stderr",
     "output_type": "stream",
     "text": [
      "cdo    remapbil: Processed 1 variable over 600 timesteps [0.53s 65MB].\n",
      "cdo    remapbil: Bilinear weights from lonlat (144x90) to lonlat (360x180) grid\n"
     ]
    },
    {
     "name": "stdout",
     "output_type": "stream",
     "text": [
      "Processed: tas_Amon_GISS-E2-R_past1000_r1i1p121_085001-089912.nc -> /work/a06/tsuda/m1/GISS121/tas_Amon_GISS-E2-R_past1000_r1i1p121_085001-089912_modified.nc\n",
      "Processed: pr_Amon_GISS-E2-R_historical_r1i1p121_190101-192512.nc -> /work/a06/tsuda/m1/GISS121/pr_Amon_GISS-E2-R_historical_r1i1p121_190101-192512_modified.nc\n"
     ]
    },
    {
     "name": "stderr",
     "output_type": "stream",
     "text": [
      "cdo    remapbil: Processed 1 variable over 300 timesteps [0.44s 65MB].\n"
     ]
    }
   ],
   "source": [
    "import os\n",
    "import subprocess\n",
    "\n",
    "# 対象ディレクトリのパス\n",
    "target_dir = \"/work/a06/tsuda/m1/GISS121\"\n",
    "# 出力グリッドの指定\n",
    "output_grid = \"r360x180\"\n",
    "\n",
    "# 対象ディレクトリ内のすべての.ncファイルをリストアップ\n",
    "nc_files = [f for f in os.listdir(target_dir) if f.endswith('.nc')]\n",
    "\n",
    "# 各ファイルに対してcdoコマンドを実行\n",
    "for file in nc_files:\n",
    "    input_path = os.path.join(target_dir, file)\n",
    "    output_path = os.path.join(target_dir, f\"{os.path.splitext(file)[0]}_modified.nc\")\n",
    "    \n",
    "    # cdo remapbilコマンドの実行\n",
    "    command = f\"cdo remapbil,{output_grid} {input_path} {output_path}\"\n",
    "    subprocess.run(command, shell=True)\n",
    "\n",
    "    print(f\"Processed: {file} -> {output_path}\")"
   ]
  }
 ],
 "metadata": {
  "kernelspec": {
   "display_name": "geocat",
   "language": "python",
   "name": "python3"
  },
  "language_info": {
   "codemirror_mode": {
    "name": "ipython",
    "version": 3
   },
   "file_extension": ".py",
   "mimetype": "text/x-python",
   "name": "python",
   "nbconvert_exporter": "python",
   "pygments_lexer": "ipython3",
   "version": "3.12.3"
  }
 },
 "nbformat": 4,
 "nbformat_minor": 2
}
